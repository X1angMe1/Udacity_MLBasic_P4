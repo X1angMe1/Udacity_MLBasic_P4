{
 "cells": [
  {
   "cell_type": "markdown",
   "metadata": {},
   "source": [
    "# 棒球赛数据分析\n",
    "> 数据来源：http://www.seanlahman.com/baseball-archive/statistics/ (2016 Version)"
   ]
  },
  {
   "cell_type": "markdown",
   "metadata": {},
   "source": [
    "### 感兴趣问题：\n",
    "* 与左右手相关的问题\n",
    "    1. 历年来所有球员中有多少人使用左手？多少人使用右手？这些球员有多少进入全明星赛,左手球员比例大,还是右手球员比例大?\n",
    "\n",
    "\n",
    "* 获奖球员相关问题\n",
    "    1. 历年来所有获奖球员的分布情况：年龄，城市等\n",
    "    \n",
    "    \n",
    "* 球员薪酬问题\n",
    "    1. 历年来球员薪酬变化情况\n",
    "    2. 历年薪酬最高的球员的情况"
   ]
  },
  {
   "cell_type": "code",
   "execution_count": 1,
   "metadata": {
    "collapsed": true
   },
   "outputs": [],
   "source": [
    "%matplotlib inline\n",
    "import matplotlib.pyplot as plt\n",
    "import numpy as np\n",
    "import pandas as pd\n",
    "import seaborn as sns\n",
    "csv_path = './baseballdatabank-2017.1/core/'"
   ]
  },
  {
   "cell_type": "markdown",
   "metadata": {},
   "source": [
    "### 探索球员中左右手比例问题"
   ]
  },
  {
   "cell_type": "code",
   "execution_count": 2,
   "metadata": {},
   "outputs": [],
   "source": [
    "# 用到的表: Master, AllStarFull\n",
    "master = pd.read_csv(csv_path + 'Master.csv')\n",
    "allstar = pd.read_csv(csv_path + 'AllstarFull.csv')"
   ]
  },
  {
   "cell_type": "code",
   "execution_count": 3,
   "metadata": {},
   "outputs": [],
   "source": [
    "# 提取master表中使用左手,右手和双手的球员,过滤掉没有此信息的球员\n",
    "left_player = master[master['bats']=='L']\n",
    "right_player = master[master['bats']=='R']\n",
    "both_player = master[master['bats']=='B']"
   ]
  },
  {
   "cell_type": "code",
   "execution_count": 4,
   "metadata": {},
   "outputs": [],
   "source": [
    "# 统计allstarfull表中使用左手,右手和双手的球员\n",
    "left_allstar = allstar.merge(left_player,on='playerID',how='inner')\n",
    "right_allstar = allstar.merge(right_player,on='playerID',how='inner')\n",
    "both_allstar = allstar.merge(both_player,on='playerID',how='inner')"
   ]
  },
  {
   "cell_type": "code",
   "execution_count": 5,
   "metadata": {},
   "outputs": [
    {
     "data": {
      "image/png": "[encoded data removed]",
      "text/plain": [
       "<matplotlib.figure.Figure at 0xbd640b8>"
      ]
     },
     "metadata": {},
     "output_type": "display_data"
    }
   ],
   "source": [
    "# 用双手的球员同时归类到左手球员和右手球员中,绘制左手,右手的条形图\n",
    "lp_count = len(left_player) + len(both_player)\n",
    "rp_count = len(right_player) + len(both_player)\n",
    "ls_count = len(left_allstar) + len(both_allstar)\n",
    "rs_count = len(right_allstar) + len(both_allstar)\n",
    "left_data=[lp_count, ls_count, (ls_count*1.0/lp_count)*100]\n",
    "right_data=[rp_count, rs_count, (rs_count*1.0/rp_count)*100]\n",
    "\n",
    "ind = np.arange(len(left_data))  # the x locations for the groups\n",
    "width = 0.35  # the width of the bars\n",
    "\n",
    "figure = plt.figure()\n",
    "ax=plt.subplot()\n",
    "\n",
    "rects1 = ax.bar(ind - width/2, left_data, width, color='SkyBlue', label='L')\n",
    "rects2 = ax.bar(ind + width/2, right_data, width, color='IndianRed', label='R')\n",
    "\n",
    "ax.set_xticks(ind)\n",
    "ax.set_xticklabels(('All', 'Star', 'persent(%)', 'G4'))\n",
    "ax.legend()\n",
    "\n",
    "def autolabel(rects, xpos='center'):\n",
    "    xpos = xpos.lower()  # normalize the case of the parameter\n",
    "    for rect in rects:\n",
    "        height = rect.get_height()\n",
    "        ax.text(rect.get_x(), 1.01*height, '{}'.format(round(height)))\n",
    "\n",
    "autolabel(rects1)\n",
    "autolabel(rects2)"
   ]
  },
  {
   "cell_type": "markdown",
   "metadata": {},
   "source": [
    "结论：从现有数据来看，虽然整体上使用右手的球员更多，但是使用左手和使用右手的球员进入全明星赛的比例是差不多的: 31% 和 28%。\n",
    "\n",
    "作图参考：\n",
    "   * https://matplotlib.org/gallery/api/barchart.html#sphx-glr-gallery-api-barchart-py\n",
    "   * https://matplotlib.org/api/text_api.html"
   ]
  },
  {
   "cell_type": "markdown",
   "metadata": {},
   "source": [
    "### 探索获奖球员相关问题"
   ]
  },
  {
   "cell_type": "code",
   "execution_count": 6,
   "metadata": {},
   "outputs": [],
   "source": [
    "# 用到的表：AwardsPlayers, Master\n",
    "master = pd.read_csv(csv_path + 'Master.csv')\n",
    "awards = pd.read_csv(csv_path + 'AwardsPlayers.csv')"
   ]
  },
  {
   "cell_type": "markdown",
   "metadata": {},
   "source": [
    "#### 1. 分析获奖球员的年龄分布情况"
   ]
  },
  {
   "cell_type": "code",
   "execution_count": 7,
   "metadata": {},
   "outputs": [
    {
     "data": {
      "text/html": [
       "<div>\n",
       "<style>\n",
       "    .dataframe thead tr:only-child th {\n",
       "        text-align: right;\n",
       "    }\n",
       "\n",
       "    .dataframe thead th {\n",
       "        text-align: left;\n",
       "    }\n",
       "\n",
       "    .dataframe tbody tr th {\n",
       "        vertical-align: top;\n",
       "    }\n",
       "</style>\n",
       "<table border=\"1\" class=\"dataframe\">\n",
       "  <thead>\n",
       "    <tr style=\"text-align: right;\">\n",
       "      <th></th>\n",
       "      <th>playerID</th>\n",
       "      <th>awardID</th>\n",
       "      <th>yearID</th>\n",
       "      <th>lgID</th>\n",
       "      <th>tie</th>\n",
       "      <th>notes</th>\n",
       "      <th>birthYear</th>\n",
       "      <th>birthMonth</th>\n",
       "      <th>birthDay</th>\n",
       "      <th>birthCountry</th>\n",
       "      <th>...</th>\n",
       "      <th>nameGiven</th>\n",
       "      <th>weight</th>\n",
       "      <th>height</th>\n",
       "      <th>bats</th>\n",
       "      <th>throws</th>\n",
       "      <th>debut</th>\n",
       "      <th>finalGame</th>\n",
       "      <th>retroID</th>\n",
       "      <th>bbrefID</th>\n",
       "      <th>Age</th>\n",
       "    </tr>\n",
       "  </thead>\n",
       "  <tbody>\n",
       "    <tr>\n",
       "      <th>0</th>\n",
       "      <td>bondto01</td>\n",
       "      <td>Pitching Triple Crown</td>\n",
       "      <td>1877</td>\n",
       "      <td>NL</td>\n",
       "      <td>NaN</td>\n",
       "      <td>NaN</td>\n",
       "      <td>1856.0</td>\n",
       "      <td>4.0</td>\n",
       "      <td>2.0</td>\n",
       "      <td>Ireland</td>\n",
       "      <td>...</td>\n",
       "      <td>Thomas Henry</td>\n",
       "      <td>160.0</td>\n",
       "      <td>67.0</td>\n",
       "      <td>R</td>\n",
       "      <td>R</td>\n",
       "      <td>1874-05-05</td>\n",
       "      <td>1884-08-11</td>\n",
       "      <td>bondt101</td>\n",
       "      <td>bondto01</td>\n",
       "      <td>21.0</td>\n",
       "    </tr>\n",
       "    <tr>\n",
       "      <th>1</th>\n",
       "      <td>hinespa01</td>\n",
       "      <td>Triple Crown</td>\n",
       "      <td>1878</td>\n",
       "      <td>NL</td>\n",
       "      <td>NaN</td>\n",
       "      <td>NaN</td>\n",
       "      <td>1855.0</td>\n",
       "      <td>3.0</td>\n",
       "      <td>1.0</td>\n",
       "      <td>USA</td>\n",
       "      <td>...</td>\n",
       "      <td>Paul Aloysius</td>\n",
       "      <td>173.0</td>\n",
       "      <td>69.0</td>\n",
       "      <td>R</td>\n",
       "      <td>R</td>\n",
       "      <td>1872-04-20</td>\n",
       "      <td>1891-07-03</td>\n",
       "      <td>hinep101</td>\n",
       "      <td>hinespa01</td>\n",
       "      <td>23.0</td>\n",
       "    </tr>\n",
       "    <tr>\n",
       "      <th>2</th>\n",
       "      <td>heckegu01</td>\n",
       "      <td>Pitching Triple Crown</td>\n",
       "      <td>1884</td>\n",
       "      <td>AA</td>\n",
       "      <td>NaN</td>\n",
       "      <td>NaN</td>\n",
       "      <td>1856.0</td>\n",
       "      <td>4.0</td>\n",
       "      <td>3.0</td>\n",
       "      <td>USA</td>\n",
       "      <td>...</td>\n",
       "      <td>Guy Jackson</td>\n",
       "      <td>190.0</td>\n",
       "      <td>72.0</td>\n",
       "      <td>R</td>\n",
       "      <td>R</td>\n",
       "      <td>1882-05-02</td>\n",
       "      <td>1890-09-30</td>\n",
       "      <td>heckg101</td>\n",
       "      <td>heckegu01</td>\n",
       "      <td>28.0</td>\n",
       "    </tr>\n",
       "    <tr>\n",
       "      <th>3</th>\n",
       "      <td>radboch01</td>\n",
       "      <td>Pitching Triple Crown</td>\n",
       "      <td>1884</td>\n",
       "      <td>NL</td>\n",
       "      <td>NaN</td>\n",
       "      <td>NaN</td>\n",
       "      <td>1854.0</td>\n",
       "      <td>12.0</td>\n",
       "      <td>11.0</td>\n",
       "      <td>USA</td>\n",
       "      <td>...</td>\n",
       "      <td>Charles Gardner</td>\n",
       "      <td>168.0</td>\n",
       "      <td>69.0</td>\n",
       "      <td>R</td>\n",
       "      <td>R</td>\n",
       "      <td>1880-05-05</td>\n",
       "      <td>1891-08-11</td>\n",
       "      <td>radbc101</td>\n",
       "      <td>radboch01</td>\n",
       "      <td>30.0</td>\n",
       "    </tr>\n",
       "    <tr>\n",
       "      <th>4</th>\n",
       "      <td>oneilti01</td>\n",
       "      <td>Triple Crown</td>\n",
       "      <td>1887</td>\n",
       "      <td>AA</td>\n",
       "      <td>NaN</td>\n",
       "      <td>NaN</td>\n",
       "      <td>1858.0</td>\n",
       "      <td>5.0</td>\n",
       "      <td>25.0</td>\n",
       "      <td>CAN</td>\n",
       "      <td>...</td>\n",
       "      <td>James Edward</td>\n",
       "      <td>167.0</td>\n",
       "      <td>73.0</td>\n",
       "      <td>R</td>\n",
       "      <td>R</td>\n",
       "      <td>1883-05-05</td>\n",
       "      <td>1892-08-30</td>\n",
       "      <td>oneit101</td>\n",
       "      <td>o'neiti01</td>\n",
       "      <td>29.0</td>\n",
       "    </tr>\n",
       "  </tbody>\n",
       "</table>\n",
       "<p>5 rows × 30 columns</p>\n",
       "</div>"
      ],
      "text/plain": [
       "    playerID                awardID  yearID lgID  tie notes  birthYear  \\\n",
       "0   bondto01  Pitching Triple Crown    1877   NL  NaN   NaN     1856.0   \n",
       "1  hinespa01           Triple Crown    1878   NL  NaN   NaN     1855.0   \n",
       "2  heckegu01  Pitching Triple Crown    1884   AA  NaN   NaN     1856.0   \n",
       "3  radboch01  Pitching Triple Crown    1884   NL  NaN   NaN     1854.0   \n",
       "4  oneilti01           Triple Crown    1887   AA  NaN   NaN     1858.0   \n",
       "\n",
       "   birthMonth  birthDay birthCountry  ...         nameGiven weight  height  \\\n",
       "0         4.0       2.0      Ireland  ...      Thomas Henry  160.0    67.0   \n",
       "1         3.0       1.0          USA  ...     Paul Aloysius  173.0    69.0   \n",
       "2         4.0       3.0          USA  ...       Guy Jackson  190.0    72.0   \n",
       "3        12.0      11.0          USA  ...   Charles Gardner  168.0    69.0   \n",
       "4         5.0      25.0          CAN  ...      James Edward  167.0    73.0   \n",
       "\n",
       "   bats  throws       debut   finalGame   retroID    bbrefID   Age  \n",
       "0     R       R  1874-05-05  1884-08-11  bondt101   bondto01  21.0  \n",
       "1     R       R  1872-04-20  1891-07-03  hinep101  hinespa01  23.0  \n",
       "2     R       R  1882-05-02  1890-09-30  heckg101  heckegu01  28.0  \n",
       "3     R       R  1880-05-05  1891-08-11  radbc101  radboch01  30.0  \n",
       "4     R       R  1883-05-05  1892-08-30  oneit101  o'neiti01  29.0  \n",
       "\n",
       "[5 rows x 30 columns]"
      ]
     },
     "execution_count": 7,
     "metadata": {},
     "output_type": "execute_result"
    }
   ],
   "source": [
    "awards_player_full = awards.merge(master,on='playerID',how='left')\n",
    "awards_player_full['Age'] = awards_player_full['yearID']-awards_player_full['birthYear']\n",
    "awards_player_full.head()"
   ]
  },
  {
   "cell_type": "code",
   "execution_count": 8,
   "metadata": {},
   "outputs": [
    {
     "data": {
      "text/plain": [
       "(array([  1.00000000e+00,   0.00000000e+00,   0.00000000e+00,\n",
       "          1.82000000e+02,   4.27500000e+03,   1.68300000e+03,\n",
       "          1.40000000e+01,   1.00000000e+00,   0.00000000e+00,\n",
       "          2.00000000e+00]),\n",
       " array([-15. ,  -5.6,   3.8,  13.2,  22.6,  32. ,  41.4,  50.8,  60.2,\n",
       "         69.6,  79. ]),\n",
       " <a list of 10 Patch objects>)"
      ]
     },
     "execution_count": 8,
     "metadata": {},
     "output_type": "execute_result"
    },
    {
     "data": {
      "image/png": "[encoded data removed]",
      "text/plain": [
       "<matplotlib.figure.Figure at 0xdea22b0>"
      ]
     },
     "metadata": {},
     "output_type": "display_data"
    }
   ],
   "source": [
    "plt.hist(awards_player_full['Age'])"
   ]
  },
  {
   "cell_type": "code",
   "execution_count": 9,
   "metadata": {},
   "outputs": [
    {
     "data": {
      "text/plain": [
       "count    6158.000000\n",
       "mean       29.234816\n",
       "std         4.176013\n",
       "min       -15.000000\n",
       "25%        26.000000\n",
       "50%        29.000000\n",
       "75%        32.000000\n",
       "max        79.000000\n",
       "Name: Age, dtype: float64"
      ]
     },
     "execution_count": 9,
     "metadata": {},
     "output_type": "execute_result"
    }
   ],
   "source": [
    "awards_player_full['Age'].describe()"
   ]
  },
  {
   "cell_type": "markdown",
   "metadata": {},
   "source": [
    "数据分析：发现min和max不太对，应该有异常数据，需要进行清洗。"
   ]
  },
  {
   "cell_type": "code",
   "execution_count": 10,
   "metadata": {},
   "outputs": [
    {
     "data": {
      "text/html": [
       "<div>\n",
       "<style>\n",
       "    .dataframe thead tr:only-child th {\n",
       "        text-align: right;\n",
       "    }\n",
       "\n",
       "    .dataframe thead th {\n",
       "        text-align: left;\n",
       "    }\n",
       "\n",
       "    .dataframe tbody tr th {\n",
       "        vertical-align: top;\n",
       "    }\n",
       "</style>\n",
       "<table border=\"1\" class=\"dataframe\">\n",
       "  <thead>\n",
       "    <tr style=\"text-align: right;\">\n",
       "      <th></th>\n",
       "      <th>playerID</th>\n",
       "      <th>awardID</th>\n",
       "      <th>yearID</th>\n",
       "      <th>lgID</th>\n",
       "      <th>tie</th>\n",
       "      <th>notes</th>\n",
       "      <th>birthYear</th>\n",
       "      <th>birthMonth</th>\n",
       "      <th>birthDay</th>\n",
       "      <th>birthCountry</th>\n",
       "      <th>...</th>\n",
       "      <th>nameGiven</th>\n",
       "      <th>weight</th>\n",
       "      <th>height</th>\n",
       "      <th>bats</th>\n",
       "      <th>throws</th>\n",
       "      <th>debut</th>\n",
       "      <th>finalGame</th>\n",
       "      <th>retroID</th>\n",
       "      <th>bbrefID</th>\n",
       "      <th>Age</th>\n",
       "    </tr>\n",
       "  </thead>\n",
       "  <tbody>\n",
       "    <tr>\n",
       "      <th>2053</th>\n",
       "      <td>ayalabo01</td>\n",
       "      <td>TSN Player of the Year</td>\n",
       "      <td>1954</td>\n",
       "      <td>AL</td>\n",
       "      <td>NaN</td>\n",
       "      <td>NaN</td>\n",
       "      <td>1969.0</td>\n",
       "      <td>7.0</td>\n",
       "      <td>8.0</td>\n",
       "      <td>USA</td>\n",
       "      <td>...</td>\n",
       "      <td>Robert Joseph</td>\n",
       "      <td>190.0</td>\n",
       "      <td>74.0</td>\n",
       "      <td>R</td>\n",
       "      <td>R</td>\n",
       "      <td>1992-09-05</td>\n",
       "      <td>1999-10-02</td>\n",
       "      <td>ayalb002</td>\n",
       "      <td>ayalabo01</td>\n",
       "      <td>-15.0</td>\n",
       "    </tr>\n",
       "  </tbody>\n",
       "</table>\n",
       "<p>1 rows × 30 columns</p>\n",
       "</div>"
      ],
      "text/plain": [
       "       playerID                 awardID  yearID lgID  tie notes  birthYear  \\\n",
       "2053  ayalabo01  TSN Player of the Year    1954   AL  NaN   NaN     1969.0   \n",
       "\n",
       "      birthMonth  birthDay birthCountry  ...       nameGiven weight  height  \\\n",
       "2053         7.0       8.0          USA  ...   Robert Joseph  190.0    74.0   \n",
       "\n",
       "      bats  throws       debut   finalGame   retroID    bbrefID   Age  \n",
       "2053     R       R  1992-09-05  1999-10-02  ayalb002  ayalabo01 -15.0  \n",
       "\n",
       "[1 rows x 30 columns]"
      ]
     },
     "execution_count": 10,
     "metadata": {},
     "output_type": "execute_result"
    }
   ],
   "source": [
    "# 分析Age过小数据\n",
    "awards_player_full[awards_player_full['Age'] < 20.0]"
   ]
  },
  {
   "cell_type": "markdown",
   "metadata": {},
   "source": [
    "上面这条数据，player获奖年份yearID比出生日期birthYear还早,应该是数据统计有误，在统计时需要删除。"
   ]
  },
  {
   "cell_type": "code",
   "execution_count": 11,
   "metadata": {},
   "outputs": [
    {
     "data": {
      "text/html": [
       "<div>\n",
       "<style>\n",
       "    .dataframe thead tr:only-child th {\n",
       "        text-align: right;\n",
       "    }\n",
       "\n",
       "    .dataframe thead th {\n",
       "        text-align: left;\n",
       "    }\n",
       "\n",
       "    .dataframe tbody tr th {\n",
       "        vertical-align: top;\n",
       "    }\n",
       "</style>\n",
       "<table border=\"1\" class=\"dataframe\">\n",
       "  <thead>\n",
       "    <tr style=\"text-align: right;\">\n",
       "      <th></th>\n",
       "      <th>playerID</th>\n",
       "      <th>awardID</th>\n",
       "      <th>yearID</th>\n",
       "      <th>lgID</th>\n",
       "      <th>tie</th>\n",
       "      <th>notes</th>\n",
       "      <th>birthYear</th>\n",
       "      <th>birthMonth</th>\n",
       "      <th>birthDay</th>\n",
       "      <th>birthCountry</th>\n",
       "      <th>...</th>\n",
       "      <th>nameGiven</th>\n",
       "      <th>weight</th>\n",
       "      <th>height</th>\n",
       "      <th>bats</th>\n",
       "      <th>throws</th>\n",
       "      <th>debut</th>\n",
       "      <th>finalGame</th>\n",
       "      <th>retroID</th>\n",
       "      <th>bbrefID</th>\n",
       "      <th>Age</th>\n",
       "    </tr>\n",
       "  </thead>\n",
       "  <tbody>\n",
       "    <tr>\n",
       "      <th>5123</th>\n",
       "      <td>valenbo02</td>\n",
       "      <td>Branch Rickey Award</td>\n",
       "      <td>2002</td>\n",
       "      <td>ML</td>\n",
       "      <td>NaN</td>\n",
       "      <td>NaN</td>\n",
       "      <td>1950.0</td>\n",
       "      <td>5.0</td>\n",
       "      <td>13.0</td>\n",
       "      <td>USA</td>\n",
       "      <td>...</td>\n",
       "      <td>Robert John</td>\n",
       "      <td>189.0</td>\n",
       "      <td>70.0</td>\n",
       "      <td>R</td>\n",
       "      <td>R</td>\n",
       "      <td>1969-09-02</td>\n",
       "      <td>1979-09-30</td>\n",
       "      <td>valeb102</td>\n",
       "      <td>valenbo02</td>\n",
       "      <td>52.0</td>\n",
       "    </tr>\n",
       "    <tr>\n",
       "      <th>5205</th>\n",
       "      <td>hemonro99</td>\n",
       "      <td>Branch Rickey Award</td>\n",
       "      <td>2003</td>\n",
       "      <td>ML</td>\n",
       "      <td>NaN</td>\n",
       "      <td>NaN</td>\n",
       "      <td>1929.0</td>\n",
       "      <td>10.0</td>\n",
       "      <td>26.0</td>\n",
       "      <td>USA</td>\n",
       "      <td>...</td>\n",
       "      <td>Roland</td>\n",
       "      <td>NaN</td>\n",
       "      <td>NaN</td>\n",
       "      <td>NaN</td>\n",
       "      <td>NaN</td>\n",
       "      <td>NaN</td>\n",
       "      <td>NaN</td>\n",
       "      <td>NaN</td>\n",
       "      <td>hemonro99</td>\n",
       "      <td>74.0</td>\n",
       "    </tr>\n",
       "    <tr>\n",
       "      <th>5447</th>\n",
       "      <td>lasorto01</td>\n",
       "      <td>Branch Rickey Award</td>\n",
       "      <td>2006</td>\n",
       "      <td>ML</td>\n",
       "      <td>NaN</td>\n",
       "      <td>NaN</td>\n",
       "      <td>1927.0</td>\n",
       "      <td>9.0</td>\n",
       "      <td>22.0</td>\n",
       "      <td>USA</td>\n",
       "      <td>...</td>\n",
       "      <td>Thomas Charles</td>\n",
       "      <td>175.0</td>\n",
       "      <td>70.0</td>\n",
       "      <td>L</td>\n",
       "      <td>L</td>\n",
       "      <td>1954-08-05</td>\n",
       "      <td>1956-07-08</td>\n",
       "      <td>lasot101</td>\n",
       "      <td>lasorto01</td>\n",
       "      <td>79.0</td>\n",
       "    </tr>\n",
       "  </tbody>\n",
       "</table>\n",
       "<p>3 rows × 30 columns</p>\n",
       "</div>"
      ],
      "text/plain": [
       "       playerID              awardID  yearID lgID  tie notes  birthYear  \\\n",
       "5123  valenbo02  Branch Rickey Award    2002   ML  NaN   NaN     1950.0   \n",
       "5205  hemonro99  Branch Rickey Award    2003   ML  NaN   NaN     1929.0   \n",
       "5447  lasorto01  Branch Rickey Award    2006   ML  NaN   NaN     1927.0   \n",
       "\n",
       "      birthMonth  birthDay birthCountry  ...        nameGiven weight  height  \\\n",
       "5123         5.0      13.0          USA  ...      Robert John  189.0    70.0   \n",
       "5205        10.0      26.0          USA  ...           Roland    NaN     NaN   \n",
       "5447         9.0      22.0          USA  ...   Thomas Charles  175.0    70.0   \n",
       "\n",
       "      bats  throws       debut   finalGame   retroID    bbrefID   Age  \n",
       "5123     R       R  1969-09-02  1979-09-30  valeb102  valenbo02  52.0  \n",
       "5205   NaN     NaN         NaN         NaN       NaN  hemonro99  74.0  \n",
       "5447     L       L  1954-08-05  1956-07-08  lasot101  lasorto01  79.0  \n",
       "\n",
       "[3 rows x 30 columns]"
      ]
     },
     "execution_count": 11,
     "metadata": {},
     "output_type": "execute_result"
    }
   ],
   "source": [
    "# 分析Age过大数据\n",
    "awards_player_full[awards_player_full['Age'] > 45.0]"
   ]
  },
  {
   "cell_type": "markdown",
   "metadata": {},
   "source": [
    "以上3条数据，球员获奖时年龄分别为52，74，79，感觉年龄有点偏大了，不太常见，决定过滤掉他们。"
   ]
  },
  {
   "cell_type": "code",
   "execution_count": 12,
   "metadata": {},
   "outputs": [
    {
     "data": {
      "text/plain": [
       "count    6154.000000\n",
       "mean       29.222944\n",
       "std         4.039785\n",
       "min        20.000000\n",
       "25%        26.000000\n",
       "50%        29.000000\n",
       "75%        32.000000\n",
       "max        44.000000\n",
       "Name: Age, dtype: float64"
      ]
     },
     "execution_count": 12,
     "metadata": {},
     "output_type": "execute_result"
    }
   ],
   "source": [
    "# 过滤后数据重新绘图\n",
    "awards_player_new = awards_player_full[(awards_player_full['Age'] < 45.0) & (awards_player_full['Age'] > 15.0)]\n",
    "awards_player_new['Age'].describe()"
   ]
  },
  {
   "cell_type": "code",
   "execution_count": 13,
   "metadata": {},
   "outputs": [
    {
     "data": {
      "text/plain": [
       "(array([  182.,   540.,  1504.,  1199.,  1032.,  1055.,   356.,   216.,\n",
       "           56.,    14.]),\n",
       " array([ 20. ,  22.4,  24.8,  27.2,  29.6,  32. ,  34.4,  36.8,  39.2,\n",
       "         41.6,  44. ]),\n",
       " <a list of 10 Patch objects>)"
      ]
     },
     "execution_count": 13,
     "metadata": {},
     "output_type": "execute_result"
    },
    {
     "data": {
      "image/png": "[encoded data removed]",
      "text/plain": [
       "<matplotlib.figure.Figure at 0xe91c160>"
      ]
     },
     "metadata": {},
     "output_type": "display_data"
    }
   ],
   "source": [
    "plt.hist(awards_player_new['Age'])"
   ]
  },
  {
   "cell_type": "markdown",
   "metadata": {},
   "source": [
    "结论：从现有数据可以看出，获奖的棒球球员年龄主要集中在25-32岁之间，以25-27最多。分析原因可能是因为25岁以前经验不足，32岁以后体力跟不上，所以棒球员的活跃年龄在25-32岁之间。\n",
    "\n",
    "参考：\n",
    "   * [pandas进行数据分析需要的一些操作](https://www.cnblogs.com/caicaihong/p/5890239.html)\n",
    "   * [pandas添加列](https://www.cnblogs.com/rrttp/p/8108188.html)\n",
    "   * [pandas多条件筛选](https://blog.csdn.net/jt1123/article/details/50086595)"
   ]
  },
  {
   "cell_type": "markdown",
   "metadata": {},
   "source": [
    "#### 2. 分析获奖球员的城市分布情况"
   ]
  },
  {
   "cell_type": "code",
   "execution_count": 14,
   "metadata": {},
   "outputs": [
    {
     "data": {
      "text/html": [
       "<div>\n",
       "<style>\n",
       "    .dataframe thead tr:only-child th {\n",
       "        text-align: right;\n",
       "    }\n",
       "\n",
       "    .dataframe thead th {\n",
       "        text-align: left;\n",
       "    }\n",
       "\n",
       "    .dataframe tbody tr th {\n",
       "        vertical-align: top;\n",
       "    }\n",
       "</style>\n",
       "<table border=\"1\" class=\"dataframe\">\n",
       "  <thead>\n",
       "    <tr style=\"text-align: right;\">\n",
       "      <th></th>\n",
       "      <th>playerID</th>\n",
       "      <th>birthYear</th>\n",
       "      <th>birthMonth</th>\n",
       "      <th>birthDay</th>\n",
       "      <th>birthCountry</th>\n",
       "      <th>birthState</th>\n",
       "      <th>birthCity</th>\n",
       "      <th>deathYear</th>\n",
       "      <th>deathMonth</th>\n",
       "      <th>deathDay</th>\n",
       "      <th>...</th>\n",
       "      <th>nameLast</th>\n",
       "      <th>nameGiven</th>\n",
       "      <th>weight</th>\n",
       "      <th>height</th>\n",
       "      <th>bats</th>\n",
       "      <th>throws</th>\n",
       "      <th>debut</th>\n",
       "      <th>finalGame</th>\n",
       "      <th>retroID</th>\n",
       "      <th>bbrefID</th>\n",
       "    </tr>\n",
       "  </thead>\n",
       "  <tbody>\n",
       "    <tr>\n",
       "      <th>1</th>\n",
       "      <td>aaronha01</td>\n",
       "      <td>1934.0</td>\n",
       "      <td>2.0</td>\n",
       "      <td>5.0</td>\n",
       "      <td>USA</td>\n",
       "      <td>AL</td>\n",
       "      <td>Mobile</td>\n",
       "      <td>NaN</td>\n",
       "      <td>NaN</td>\n",
       "      <td>NaN</td>\n",
       "      <td>...</td>\n",
       "      <td>Aaron</td>\n",
       "      <td>Henry Louis</td>\n",
       "      <td>180.0</td>\n",
       "      <td>72.0</td>\n",
       "      <td>R</td>\n",
       "      <td>R</td>\n",
       "      <td>1954-04-13</td>\n",
       "      <td>1976-10-03</td>\n",
       "      <td>aaroh101</td>\n",
       "      <td>aaronha01</td>\n",
       "    </tr>\n",
       "    <tr>\n",
       "      <th>14</th>\n",
       "      <td>abbotji01</td>\n",
       "      <td>1967.0</td>\n",
       "      <td>9.0</td>\n",
       "      <td>19.0</td>\n",
       "      <td>USA</td>\n",
       "      <td>MI</td>\n",
       "      <td>Flint</td>\n",
       "      <td>NaN</td>\n",
       "      <td>NaN</td>\n",
       "      <td>NaN</td>\n",
       "      <td>...</td>\n",
       "      <td>Abbott</td>\n",
       "      <td>James Anthony</td>\n",
       "      <td>200.0</td>\n",
       "      <td>75.0</td>\n",
       "      <td>L</td>\n",
       "      <td>L</td>\n",
       "      <td>1989-04-08</td>\n",
       "      <td>1999-07-21</td>\n",
       "      <td>abboj001</td>\n",
       "      <td>abbotji01</td>\n",
       "    </tr>\n",
       "    <tr>\n",
       "      <th>25</th>\n",
       "      <td>abernte02</td>\n",
       "      <td>1933.0</td>\n",
       "      <td>3.0</td>\n",
       "      <td>6.0</td>\n",
       "      <td>USA</td>\n",
       "      <td>NC</td>\n",
       "      <td>Stanley</td>\n",
       "      <td>2004.0</td>\n",
       "      <td>12.0</td>\n",
       "      <td>16.0</td>\n",
       "      <td>...</td>\n",
       "      <td>Abernathy</td>\n",
       "      <td>Theodore Wade</td>\n",
       "      <td>215.0</td>\n",
       "      <td>76.0</td>\n",
       "      <td>R</td>\n",
       "      <td>R</td>\n",
       "      <td>1955-04-13</td>\n",
       "      <td>1972-09-30</td>\n",
       "      <td>abert101</td>\n",
       "      <td>abernte02</td>\n",
       "    </tr>\n",
       "    <tr>\n",
       "      <th>33</th>\n",
       "      <td>abreubo01</td>\n",
       "      <td>1974.0</td>\n",
       "      <td>3.0</td>\n",
       "      <td>11.0</td>\n",
       "      <td>Venezuela</td>\n",
       "      <td>Aragua</td>\n",
       "      <td>Maracay</td>\n",
       "      <td>NaN</td>\n",
       "      <td>NaN</td>\n",
       "      <td>NaN</td>\n",
       "      <td>...</td>\n",
       "      <td>Abreu</td>\n",
       "      <td>Bob Kelly</td>\n",
       "      <td>220.0</td>\n",
       "      <td>72.0</td>\n",
       "      <td>L</td>\n",
       "      <td>R</td>\n",
       "      <td>1996-09-01</td>\n",
       "      <td>2014-09-28</td>\n",
       "      <td>abreb001</td>\n",
       "      <td>abreubo01</td>\n",
       "    </tr>\n",
       "    <tr>\n",
       "      <th>35</th>\n",
       "      <td>abreujo02</td>\n",
       "      <td>1987.0</td>\n",
       "      <td>1.0</td>\n",
       "      <td>29.0</td>\n",
       "      <td>Cuba</td>\n",
       "      <td>Cienfuegos</td>\n",
       "      <td>Cienfuegos</td>\n",
       "      <td>NaN</td>\n",
       "      <td>NaN</td>\n",
       "      <td>NaN</td>\n",
       "      <td>...</td>\n",
       "      <td>Abreu</td>\n",
       "      <td>Jose Dariel</td>\n",
       "      <td>255.0</td>\n",
       "      <td>75.0</td>\n",
       "      <td>R</td>\n",
       "      <td>R</td>\n",
       "      <td>2014-03-31</td>\n",
       "      <td>2016-10-02</td>\n",
       "      <td>abrej003</td>\n",
       "      <td>abreujo02</td>\n",
       "    </tr>\n",
       "  </tbody>\n",
       "</table>\n",
       "<p>5 rows × 24 columns</p>\n",
       "</div>"
      ],
      "text/plain": [
       "     playerID  birthYear  birthMonth  birthDay birthCountry  birthState  \\\n",
       "1   aaronha01     1934.0         2.0       5.0          USA          AL   \n",
       "14  abbotji01     1967.0         9.0      19.0          USA          MI   \n",
       "25  abernte02     1933.0         3.0       6.0          USA          NC   \n",
       "33  abreubo01     1974.0         3.0      11.0    Venezuela      Aragua   \n",
       "35  abreujo02     1987.0         1.0      29.0         Cuba  Cienfuegos   \n",
       "\n",
       "     birthCity  deathYear  deathMonth  deathDay    ...       nameLast  \\\n",
       "1       Mobile        NaN         NaN       NaN    ...          Aaron   \n",
       "14       Flint        NaN         NaN       NaN    ...         Abbott   \n",
       "25     Stanley     2004.0        12.0      16.0    ...      Abernathy   \n",
       "33     Maracay        NaN         NaN       NaN    ...          Abreu   \n",
       "35  Cienfuegos        NaN         NaN       NaN    ...          Abreu   \n",
       "\n",
       "        nameGiven weight height bats throws       debut   finalGame   retroID  \\\n",
       "1     Henry Louis  180.0   72.0    R      R  1954-04-13  1976-10-03  aaroh101   \n",
       "14  James Anthony  200.0   75.0    L      L  1989-04-08  1999-07-21  abboj001   \n",
       "25  Theodore Wade  215.0   76.0    R      R  1955-04-13  1972-09-30  abert101   \n",
       "33      Bob Kelly  220.0   72.0    L      R  1996-09-01  2014-09-28  abreb001   \n",
       "35    Jose Dariel  255.0   75.0    R      R  2014-03-31  2016-10-02  abrej003   \n",
       "\n",
       "      bbrefID  \n",
       "1   aaronha01  \n",
       "14  abbotji01  \n",
       "25  abernte02  \n",
       "33  abreubo01  \n",
       "35  abreujo02  \n",
       "\n",
       "[5 rows x 24 columns]"
      ]
     },
     "execution_count": 14,
     "metadata": {},
     "output_type": "execute_result"
    }
   ],
   "source": [
    "awards_player = pd.Series(list(set(awards['playerID']))) # 获取获奖球员名单（去重）\n",
    "awards_player_info = master[master['playerID'].isin(awards_player)]\n",
    "awards_player_info.head()"
   ]
  },
  {
   "cell_type": "code",
   "execution_count": 15,
   "metadata": {},
   "outputs": [
    {
     "data": {
      "text/plain": [
       "birthCountry\n",
       "Aruba           1\n",
       "Brazil          1\n",
       "CAN            15\n",
       "Colombia        2\n",
       "Cuba           23\n",
       "Curacao         3\n",
       "D.R.           53\n",
       "Germany         1\n",
       "Ireland         2\n",
       "Jamaica         1\n",
       "Japan           5\n",
       "Mexico          7\n",
       "P.R.           35\n",
       "Panama          6\n",
       "Russia          1\n",
       "USA          1153\n",
       "V.I.            1\n",
       "Venezuela      32\n",
       "Viet Nam        1\n",
       "dtype: int64"
      ]
     },
     "execution_count": 15,
     "metadata": {},
     "output_type": "execute_result"
    }
   ],
   "source": [
    "awards_player_info.groupby('birthCountry').size() # 查看获奖球员国家分别"
   ]
  },
  {
   "cell_type": "markdown",
   "metadata": {},
   "source": [
    "从上面数据可以看出,球员主要是美国的,所以这里我们只分析美国出生的球员对应的城市:"
   ]
  },
  {
   "cell_type": "code",
   "execution_count": 16,
   "metadata": {},
   "outputs": [
    {
     "data": {
      "text/plain": [
       "1153"
      ]
     },
     "execution_count": 16,
     "metadata": {},
     "output_type": "execute_result"
    }
   ],
   "source": [
    "awards_player_usa = awards_player_info[awards_player_info['birthCountry']=='USA']\n",
    "len(awards_player_usa)"
   ]
  },
  {
   "cell_type": "code",
   "execution_count": 17,
   "metadata": {},
   "outputs": [
    {
     "data": {
      "text/plain": [
       "16694"
      ]
     },
     "execution_count": 17,
     "metadata": {},
     "output_type": "execute_result"
    }
   ],
   "source": [
    "all_player_usa = master[master['birthCountry']=='USA']\n",
    "len(all_player_usa)"
   ]
  },
  {
   "cell_type": "code",
   "execution_count": 18,
   "metadata": {},
   "outputs": [],
   "source": [
    "awards_usa_city = awards_player_usa.groupby('birthCity').size()\n",
    "all_usa_city = all_player_usa.groupby('birthCity').size()"
   ]
  },
  {
   "cell_type": "code",
   "execution_count": 19,
   "metadata": {},
   "outputs": [
    {
     "data": {
      "text/plain": [
       "<matplotlib.axes._subplots.AxesSubplot at 0xe8d0898>"
      ]
     },
     "execution_count": 19,
     "metadata": {},
     "output_type": "execute_result"
    },
    {
     "data": {
      "image/png": "[encoded data removed]",
      "text/plain": [
       "<matplotlib.figure.Figure at 0xe7d8ac8>"
      ]
     },
     "metadata": {},
     "output_type": "display_data"
    }
   ],
   "source": [
    "all_usa_city.plot()\n",
    "awards_usa_city.plot()"
   ]
  },
  {
   "cell_type": "markdown",
   "metadata": {},
   "source": [
    "由上图可知，只有部分城市有获奖球员，下面将分析这些城市"
   ]
  },
  {
   "cell_type": "code",
   "execution_count": 20,
   "metadata": {},
   "outputs": [
    {
     "data": {
      "text/plain": [
       "<matplotlib.axes._subplots.AxesSubplot at 0xa14df60>"
      ]
     },
     "execution_count": 20,
     "metadata": {},
     "output_type": "execute_result"
    },
    {
     "data": {
      "image/png": "[encoded data removed]",
      "text/plain": [
       "<matplotlib.figure.Figure at 0xa16dda0>"
      ]
     },
     "metadata": {},
     "output_type": "display_data"
    }
   ],
   "source": [
    "all_usa_city[all_usa_city.index.isin(awards_usa_city.index)].plot()\n",
    "awards_usa_city.plot()"
   ]
  },
  {
   "cell_type": "code",
   "execution_count": 21,
   "metadata": {},
   "outputs": [
    {
     "data": {
      "text/plain": [
       "<matplotlib.axes._subplots.AxesSubplot at 0x1087c1d0>"
      ]
     },
     "execution_count": 21,
     "metadata": {},
     "output_type": "execute_result"
    },
    {
     "data": {
      "image/png": "[encoded data removed]",
      "text/plain": [
       "<matplotlib.figure.Figure at 0x9f8d588>"
      ]
     },
     "metadata": {},
     "output_type": "display_data"
    }
   ],
   "source": [
    "# 查看这些有获奖球员的城市的获奖球员数量\n",
    "awards_usa_city.plot()"
   ]
  },
  {
   "cell_type": "code",
   "execution_count": 22,
   "metadata": {},
   "outputs": [
    {
     "data": {
      "text/plain": [
       "<matplotlib.axes._subplots.AxesSubplot at 0x10c10e10>"
      ]
     },
     "execution_count": 22,
     "metadata": {},
     "output_type": "execute_result"
    },
    {
     "data": {
      "image/png": "[encoded data removed]",
      "text/plain": [
       "<matplotlib.figure.Figure at 0x10b6fef0>"
      ]
     },
     "metadata": {},
     "output_type": "display_data"
    }
   ],
   "source": [
    "# 由上图可知，只有部分城市获奖球员在10人以上，分析这些城市\n",
    "\n",
    "high_awards_city = awards_usa_city[awards_usa_city.values > 10]\n",
    "high_awards_city.plot(kind='bar',title='birthCity which has 10+ awarded players')"
   ]
  },
  {
   "cell_type": "code",
   "execution_count": 23,
   "metadata": {},
   "outputs": [
    {
     "data": {
      "text/plain": [
       "<matplotlib.axes._subplots.AxesSubplot at 0x10b91630>"
      ]
     },
     "execution_count": 23,
     "metadata": {},
     "output_type": "execute_result"
    },
    {
     "data": {
      "image/png": "[encoded data removed]",
      "text/plain": [
       "<matplotlib.figure.Figure at 0x10b6f908>"
      ]
     },
     "metadata": {},
     "output_type": "display_data"
    }
   ],
   "source": [
    "# 查看上面这些城市对应的球员总数量\n",
    "all_usa_city[all_usa_city.index.isin(high_awards_city.index)].plot(kind='bar')\n",
    "high_awards_city.plot(kind='bar',position=0,colormap='Reds_r')"
   ]
  },
  {
   "cell_type": "markdown",
   "metadata": {},
   "source": [
    "结论：从上图来看，虽然这些城市获奖的球员数量不少，但是总球员数量也很多，总体来看，获奖的概率不是特别高。"
   ]
  },
  {
   "cell_type": "markdown",
   "metadata": {},
   "source": [
    "分析球员获奖概率最高的城市"
   ]
  },
  {
   "cell_type": "code",
   "execution_count": 24,
   "metadata": {},
   "outputs": [
    {
     "data": {
      "text/plain": [
       "birthCity\n",
       "Abington    0.125000\n",
       "Adrian      0.142857\n",
       "Agnew       1.000000\n",
       "Ahoskie     1.000000\n",
       "Akron       0.071429\n",
       "dtype: float64"
      ]
     },
     "execution_count": 24,
     "metadata": {},
     "output_type": "execute_result"
    }
   ],
   "source": [
    "# 获取有获奖球员的城市所有球员的获奖概率\n",
    "rate_awards_city = (awards_usa_city / all_usa_city).dropna()\n",
    "rate_awards_city.head()"
   ]
  },
  {
   "cell_type": "code",
   "execution_count": 25,
   "metadata": {},
   "outputs": [
    {
     "data": {
      "text/plain": [
       "155"
      ]
     },
     "execution_count": 25,
     "metadata": {},
     "output_type": "execute_result"
    }
   ],
   "source": [
    "# 查看有多少城市球员获奖概率为100%\n",
    "rate1_city = rate_awards_city[rate_awards_city.values == 1]\n",
    "len(rate1_city)"
   ]
  },
  {
   "cell_type": "code",
   "execution_count": 26,
   "metadata": {},
   "outputs": [
    {
     "data": {
      "text/plain": [
       "<matplotlib.axes._subplots.AxesSubplot at 0x11139d30>"
      ]
     },
     "execution_count": 26,
     "metadata": {},
     "output_type": "execute_result"
    },
    {
     "data": {
      "image/png": "[encoded data removed]",
      "text/plain": [
       "<matplotlib.figure.Figure at 0xa010208>"
      ]
     },
     "metadata": {},
     "output_type": "display_data"
    }
   ],
   "source": [
    "# 查看这些100%获奖的城市各有多少球员\n",
    "all_usa_city[all_usa_city.index.isin(rate1_city.index)].plot()"
   ]
  },
  {
   "cell_type": "markdown",
   "metadata": {},
   "source": [
    "从上图可知，这些100%获奖的城市基本只有1个球员，少数几个城市有2个球员，看来从这些城市中冲出来的球员都是特别棒的球员。"
   ]
  },
  {
   "cell_type": "markdown",
   "metadata": {},
   "source": [
    "参考：\n",
    "   * [pandas.DataFrame.plot](http://pandas.pydata.org/pandas-docs/stable/generated/pandas.DataFrame.plot.html)"
   ]
  },
  {
   "cell_type": "markdown",
   "metadata": {},
   "source": [
    "### 探索球员薪酬问题"
   ]
  },
  {
   "cell_type": "code",
   "execution_count": 27,
   "metadata": {
    "collapsed": true
   },
   "outputs": [],
   "source": [
    "# 用到的表: Master, AllStarFull\n",
    "master = pd.read_csv(csv_path + 'Master.csv')\n",
    "salary = pd.read_csv(csv_path + 'Salaries.csv')"
   ]
  },
  {
   "cell_type": "code",
   "execution_count": 28,
   "metadata": {},
   "outputs": [
    {
     "data": {
      "text/plain": [
       "<matplotlib.axes._subplots.AxesSubplot at 0xeaf2978>"
      ]
     },
     "execution_count": 28,
     "metadata": {},
     "output_type": "execute_result"
    },
    {
     "data": {
      "image/png": "[encoded data removed]",
      "text/plain": [
       "<matplotlib.figure.Figure at 0xeb028d0>"
      ]
     },
     "metadata": {},
     "output_type": "display_data"
    }
   ],
   "source": [
    "player_salary = master.merge(salary,on='playerID',how='inner')\n",
    "player_salary.groupby('yearID').mean()['salary'].plot()"
   ]
  },
  {
   "cell_type": "markdown",
   "metadata": {},
   "source": [
    "结论：从现有数据来看，帮球员的薪酬水平是逐年呈显著性水平提升的，预计今后的增长幅度也差不多。"
   ]
  },
  {
   "cell_type": "code",
   "execution_count": 29,
   "metadata": {},
   "outputs": [
    {
     "data": {
      "text/html": [
       "<div>\n",
       "<style>\n",
       "    .dataframe thead tr:only-child th {\n",
       "        text-align: right;\n",
       "    }\n",
       "\n",
       "    .dataframe thead th {\n",
       "        text-align: left;\n",
       "    }\n",
       "\n",
       "    .dataframe tbody tr th {\n",
       "        vertical-align: top;\n",
       "    }\n",
       "</style>\n",
       "<table border=\"1\" class=\"dataframe\">\n",
       "  <thead>\n",
       "    <tr style=\"text-align: right;\">\n",
       "      <th></th>\n",
       "      <th>playerID</th>\n",
       "      <th>birthYear</th>\n",
       "      <th>birthMonth</th>\n",
       "      <th>birthDay</th>\n",
       "      <th>birthCountry</th>\n",
       "      <th>birthState</th>\n",
       "      <th>birthCity</th>\n",
       "      <th>deathYear</th>\n",
       "      <th>deathMonth</th>\n",
       "      <th>deathDay</th>\n",
       "      <th>...</th>\n",
       "      <th>height</th>\n",
       "      <th>bats</th>\n",
       "      <th>throws</th>\n",
       "      <th>debut</th>\n",
       "      <th>finalGame</th>\n",
       "      <th>retroID</th>\n",
       "      <th>bbrefID</th>\n",
       "      <th>teamID</th>\n",
       "      <th>lgID</th>\n",
       "      <th>salary</th>\n",
       "    </tr>\n",
       "    <tr>\n",
       "      <th>yearID</th>\n",
       "      <th></th>\n",
       "      <th></th>\n",
       "      <th></th>\n",
       "      <th></th>\n",
       "      <th></th>\n",
       "      <th></th>\n",
       "      <th></th>\n",
       "      <th></th>\n",
       "      <th></th>\n",
       "      <th></th>\n",
       "      <th></th>\n",
       "      <th></th>\n",
       "      <th></th>\n",
       "      <th></th>\n",
       "      <th></th>\n",
       "      <th></th>\n",
       "      <th></th>\n",
       "      <th></th>\n",
       "      <th></th>\n",
       "      <th></th>\n",
       "      <th></th>\n",
       "    </tr>\n",
       "  </thead>\n",
       "  <tbody>\n",
       "    <tr>\n",
       "      <th>1985</th>\n",
       "      <td>ziskri01</td>\n",
       "      <td>1964.0</td>\n",
       "      <td>12.0</td>\n",
       "      <td>31.0</td>\n",
       "      <td>Venezuela</td>\n",
       "      <td>WY</td>\n",
       "      <td>Zeist</td>\n",
       "      <td>2016.0</td>\n",
       "      <td>12.0</td>\n",
       "      <td>30.0</td>\n",
       "      <td>...</td>\n",
       "      <td>80.0</td>\n",
       "      <td>R</td>\n",
       "      <td>R</td>\n",
       "      <td>1986-06-11</td>\n",
       "      <td>2007-09-17</td>\n",
       "      <td>ziskr101</td>\n",
       "      <td>ziskri01</td>\n",
       "      <td>TOR</td>\n",
       "      <td>NL</td>\n",
       "      <td>2130300</td>\n",
       "    </tr>\n",
       "    <tr>\n",
       "      <th>1986</th>\n",
       "      <td>ziskri01</td>\n",
       "      <td>1966.0</td>\n",
       "      <td>12.0</td>\n",
       "      <td>31.0</td>\n",
       "      <td>Venezuela</td>\n",
       "      <td>WY</td>\n",
       "      <td>Zeist</td>\n",
       "      <td>2016.0</td>\n",
       "      <td>12.0</td>\n",
       "      <td>30.0</td>\n",
       "      <td>...</td>\n",
       "      <td>80.0</td>\n",
       "      <td>R</td>\n",
       "      <td>R</td>\n",
       "      <td>1986-09-02</td>\n",
       "      <td>2012-05-27</td>\n",
       "      <td>ziskr101</td>\n",
       "      <td>ziskri01</td>\n",
       "      <td>TOR</td>\n",
       "      <td>NL</td>\n",
       "      <td>2800000</td>\n",
       "    </tr>\n",
       "    <tr>\n",
       "      <th>1987</th>\n",
       "      <td>ziskri01</td>\n",
       "      <td>1966.0</td>\n",
       "      <td>12.0</td>\n",
       "      <td>31.0</td>\n",
       "      <td>Venezuela</td>\n",
       "      <td>WY</td>\n",
       "      <td>Zeist</td>\n",
       "      <td>2016.0</td>\n",
       "      <td>12.0</td>\n",
       "      <td>30.0</td>\n",
       "      <td>...</td>\n",
       "      <td>79.0</td>\n",
       "      <td>R</td>\n",
       "      <td>R</td>\n",
       "      <td>1987-08-30</td>\n",
       "      <td>2012-05-27</td>\n",
       "      <td>ziskr101</td>\n",
       "      <td>ziskri01</td>\n",
       "      <td>TOR</td>\n",
       "      <td>NL</td>\n",
       "      <td>2127333</td>\n",
       "    </tr>\n",
       "    <tr>\n",
       "      <th>1988</th>\n",
       "      <td>yountro01</td>\n",
       "      <td>1967.0</td>\n",
       "      <td>12.0</td>\n",
       "      <td>31.0</td>\n",
       "      <td>Venezuela</td>\n",
       "      <td>WY</td>\n",
       "      <td>Zeist</td>\n",
       "      <td>2016.0</td>\n",
       "      <td>12.0</td>\n",
       "      <td>30.0</td>\n",
       "      <td>...</td>\n",
       "      <td>80.0</td>\n",
       "      <td>R</td>\n",
       "      <td>R</td>\n",
       "      <td>1992-06-14</td>\n",
       "      <td>2012-05-27</td>\n",
       "      <td>younr001</td>\n",
       "      <td>yountro01</td>\n",
       "      <td>TOR</td>\n",
       "      <td>NL</td>\n",
       "      <td>2340000</td>\n",
       "    </tr>\n",
       "    <tr>\n",
       "      <th>1989</th>\n",
       "      <td>zuvelpa01</td>\n",
       "      <td>1969.0</td>\n",
       "      <td>12.0</td>\n",
       "      <td>31.0</td>\n",
       "      <td>Venezuela</td>\n",
       "      <td>Zulia</td>\n",
       "      <td>Zeist</td>\n",
       "      <td>2016.0</td>\n",
       "      <td>12.0</td>\n",
       "      <td>30.0</td>\n",
       "      <td>...</td>\n",
       "      <td>82.0</td>\n",
       "      <td>R</td>\n",
       "      <td>R</td>\n",
       "      <td>1989-09-01</td>\n",
       "      <td>2012-10-03</td>\n",
       "      <td>zuvep001</td>\n",
       "      <td>zuvelpa01</td>\n",
       "      <td>TOR</td>\n",
       "      <td>NL</td>\n",
       "      <td>2766667</td>\n",
       "    </tr>\n",
       "  </tbody>\n",
       "</table>\n",
       "<p>5 rows × 27 columns</p>\n",
       "</div>"
      ],
      "text/plain": [
       "         playerID  birthYear  birthMonth  birthDay birthCountry birthState  \\\n",
       "yearID                                                                       \n",
       "1985     ziskri01     1964.0        12.0      31.0    Venezuela         WY   \n",
       "1986     ziskri01     1966.0        12.0      31.0    Venezuela         WY   \n",
       "1987     ziskri01     1966.0        12.0      31.0    Venezuela         WY   \n",
       "1988    yountro01     1967.0        12.0      31.0    Venezuela         WY   \n",
       "1989    zuvelpa01     1969.0        12.0      31.0    Venezuela      Zulia   \n",
       "\n",
       "       birthCity  deathYear  deathMonth  deathDay   ...    height bats throws  \\\n",
       "yearID                                              ...                         \n",
       "1985       Zeist     2016.0        12.0      30.0   ...      80.0    R      R   \n",
       "1986       Zeist     2016.0        12.0      30.0   ...      80.0    R      R   \n",
       "1987       Zeist     2016.0        12.0      30.0   ...      79.0    R      R   \n",
       "1988       Zeist     2016.0        12.0      30.0   ...      80.0    R      R   \n",
       "1989       Zeist     2016.0        12.0      30.0   ...      82.0    R      R   \n",
       "\n",
       "             debut   finalGame   retroID    bbrefID  teamID lgID   salary  \n",
       "yearID                                                                     \n",
       "1985    1986-06-11  2007-09-17  ziskr101   ziskri01     TOR   NL  2130300  \n",
       "1986    1986-09-02  2012-05-27  ziskr101   ziskri01     TOR   NL  2800000  \n",
       "1987    1987-08-30  2012-05-27  ziskr101   ziskri01     TOR   NL  2127333  \n",
       "1988    1992-06-14  2012-05-27  younr001  yountro01     TOR   NL  2340000  \n",
       "1989    1989-09-01  2012-10-03  zuvep001  zuvelpa01     TOR   NL  2766667  \n",
       "\n",
       "[5 rows x 27 columns]"
      ]
     },
     "execution_count": 29,
     "metadata": {},
     "output_type": "execute_result"
    }
   ],
   "source": [
    "# 每年最高薪酬球员\n",
    "highest_salary = player_salary.groupby('yearID').max()\n",
    "highest_salary.head()"
   ]
  },
  {
   "cell_type": "code",
   "execution_count": 30,
   "metadata": {},
   "outputs": [
    {
     "data": {
      "text/plain": [
       "<matplotlib.axes._subplots.AxesSubplot at 0xeb154e0>"
      ]
     },
     "execution_count": 30,
     "metadata": {},
     "output_type": "execute_result"
    },
    {
     "data": {
      "image/png": "[encoded data removed]",
      "text/plain": [
       "<matplotlib.figure.Figure at 0xea6fa58>"
      ]
     },
     "metadata": {},
     "output_type": "display_data"
    }
   ],
   "source": [
    "highest_salary['birthState'].hist()"
   ]
  },
  {
   "cell_type": "code",
   "execution_count": 31,
   "metadata": {},
   "outputs": [
    {
     "data": {
      "text/plain": [
       "<matplotlib.axes._subplots.AxesSubplot at 0x11977940>"
      ]
     },
     "execution_count": 31,
     "metadata": {},
     "output_type": "execute_result"
    },
    {
     "data": {
      "image/png": "[encoded data removed]",
      "text/plain": [
       "<matplotlib.figure.Figure at 0x11026748>"
      ]
     },
     "metadata": {},
     "output_type": "display_data"
    }
   ],
   "source": [
    "highest_salary['teamID'].hist()"
   ]
  },
  {
   "cell_type": "markdown",
   "metadata": {},
   "source": [
    "结论：从目前数据来看, 历年来最高薪酬的球员基本都是Zulia出生的，大部分球员都是属于TOR(Toronto Blue Jays)球队。（想要拿高薪的注意啦，赶紧去Zulia和TOR报道吧，哈哈）"
   ]
  }
 ],
 "metadata": {
  "kernelspec": {
   "display_name": "Python 2",
   "language": "python",
   "name": "python2"
  },
  "language_info": {
   "codemirror_mode": {
    "name": "ipython",
    "version": 2
   },
   "file_extension": ".py",
   "mimetype": "text/x-python",
   "name": "python",
   "nbconvert_exporter": "python",
   "pygments_lexer": "ipython2",
   "version": "2.7.14"
  }
 },
 "nbformat": 4,
 "nbformat_minor": 2
}
